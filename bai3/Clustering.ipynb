{
 "cells": [
  {
   "cell_type": "markdown",
   "metadata": {
    "id": "JVJgMMzmjoaV"
   },
   "source": [
    "#Data Preparation"
   ]
  },
  {
   "cell_type": "markdown",
   "metadata": {
    "id": "DGt4yREIoziF"
   },
   "source": [
    "**Read data into dataframe news**"
   ]
  },
  {
   "cell_type": "code",
   "execution_count": 103,
   "metadata": {
    "colab": {
     "base_uri": "https://localhost:8080/"
    },
    "executionInfo": {
     "elapsed": 559,
     "status": "ok",
     "timestamp": 1649079526993,
     "user": {
      "displayName": "Mân Nguyễn Huỳnh Huy",
      "userId": "05410369173119684721"
     },
     "user_tz": -420
    },
    "id": "ZO-ewijDoXr2",
    "outputId": "4f40f2b0-5124-48ed-f38d-f5eb48ba1f68"
   },
   "outputs": [
    {
     "name": "stdout",
     "output_type": "stream",
     "text": [
      "%pylab is deprecated, use %matplotlib inline and import the required libraries.\n",
      "Populating the interactive namespace from numpy and matplotlib\n"
     ]
    },
    {
     "name": "stderr",
     "output_type": "stream",
     "text": [
      "C:\\Users\\man28\\AppData\\Local\\Programs\\Python\\Python310\\lib\\site-packages\\IPython\\core\\magics\\pylab.py:162: UserWarning: pylab import has clobbered these variables: ['title', 'f']\n",
      "`%matplotlib` prevents importing * from pylab and numpy\n",
      "  warn(\"pylab import has clobbered these variables: %s\"  % clobbered +\n",
      "[nltk_data] Downloading package stopwords to\n",
      "[nltk_data]     C:\\Users\\man28\\AppData\\Roaming\\nltk_data...\n",
      "[nltk_data]   Package stopwords is already up-to-date!\n",
      "[nltk_data] Downloading package wordnet to\n",
      "[nltk_data]     C:\\Users\\man28\\AppData\\Roaming\\nltk_data...\n",
      "[nltk_data]   Package wordnet is already up-to-date!\n",
      "[nltk_data] Downloading package omw-1.4 to\n",
      "[nltk_data]     C:\\Users\\man28\\AppData\\Roaming\\nltk_data...\n",
      "[nltk_data]   Package omw-1.4 is already up-to-date!\n"
     ]
    }
   ],
   "source": [
    "%pylab inline\n",
    "import pandas as pd\n",
    "import numpy as np\n",
    "import os\n",
    "from sklearn.preprocessing import LabelEncoder\n",
    "from sklearn.model_selection import train_test_split\n",
    "from sklearn.svm import LinearSVC\n",
    "from sklearn.linear_model import SGDClassifier\n",
    "from sklearn.ensemble import RandomForestClassifier\n",
    "from sklearn.neighbors import KNeighborsClassifier\n",
    "from sklearn.feature_extraction.text import TfidfVectorizer\n",
    "from sklearn.manifold import TSNE\n",
    "from pprint import pprint\n",
    "from xgboost import XGBClassifier\n",
    "from gensim.models import Phrases, LdaModel\n",
    "from gensim.corpora import Dictionary\n",
    "import nltk\n",
    "nltk.download('stopwords')\n",
    "nltk.download(\"wordnet\")\n",
    "nltk.download('omw-1.4')\n",
    "from nltk.stem import WordNetLemmatizer, SnowballStemmer\n",
    "from nltk.tokenize import RegexpTokenizer\n",
    "from nltk.corpus import brown\n",
    "from nltk import FreqDist\n",
    "from wordcloud import WordCloud \n",
    "from collections import OrderedDict"
   ]
  },
  {
   "cell_type": "code",
   "execution_count": 104,
   "metadata": {
    "id": "TX8kfbuqkhmI"
   },
   "outputs": [],
   "source": [
    "data_folder = \"./bbc/\"\n",
    "folders = [\"business\",\"entertainment\",\"politics\",\"sport\",\"tech\"]"
   ]
  },
  {
   "cell_type": "code",
   "execution_count": 105,
   "metadata": {
    "colab": {
     "base_uri": "https://localhost:8080/"
    },
    "executionInfo": {
     "elapsed": 17,
     "status": "ok",
     "timestamp": 1649079530796,
     "user": {
      "displayName": "Mân Nguyễn Huỳnh Huy",
      "userId": "05410369173119684721"
     },
     "user_tz": -420
    },
    "id": "m1-hlLI8kmUg",
    "outputId": "c1978f8e-0405-4d69-8553-0d794271fd1e"
   },
   "outputs": [
    {
     "data": {
      "text/plain": [
       "['business', 'entertainment', 'politics', 'README.TXT', 'sport', 'tech']"
      ]
     },
     "execution_count": 105,
     "metadata": {},
     "output_type": "execute_result"
    }
   ],
   "source": [
    "os.listdir(data_folder)"
   ]
  },
  {
   "cell_type": "code",
   "execution_count": 106,
   "metadata": {
    "id": "RXKR3AcTkuNA"
   },
   "outputs": [],
   "source": [
    "files = os.listdir('./bbc/business/')"
   ]
  },
  {
   "cell_type": "code",
   "execution_count": 107,
   "metadata": {
    "id": "aoWpHAcukzD-"
   },
   "outputs": [],
   "source": [
    "folderslist = [f for f in os.listdir(data_folder) if '.' not in f]"
   ]
  },
  {
   "cell_type": "code",
   "execution_count": 108,
   "metadata": {
    "colab": {
     "base_uri": "https://localhost:8080/"
    },
    "executionInfo": {
     "elapsed": 16,
     "status": "ok",
     "timestamp": 1649079530797,
     "user": {
      "displayName": "Mân Nguyễn Huỳnh Huy",
      "userId": "05410369173119684721"
     },
     "user_tz": -420
    },
    "id": "I9XKPVN0kz8x",
    "outputId": "2ac7c9ef-24ac-4d77-fba3-7655890a94f8"
   },
   "outputs": [
    {
     "data": {
      "text/plain": [
       "['business', 'entertainment', 'politics', 'sport', 'tech']"
      ]
     },
     "execution_count": 108,
     "metadata": {},
     "output_type": "execute_result"
    }
   ],
   "source": [
    "folderslist"
   ]
  },
  {
   "cell_type": "code",
   "execution_count": 109,
   "metadata": {
    "id": "40u6FAfKlHlS"
   },
   "outputs": [],
   "source": [
    "content = []\n",
    "category = []"
   ]
  },
  {
   "cell_type": "code",
   "execution_count": 110,
   "metadata": {
    "id": "lH8iF9YnlZWX"
   },
   "outputs": [],
   "source": [
    "for folder in folders:\n",
    "    folder_path = './bbc/'+folder+'/'\n",
    "    files = os.listdir(folder_path)\n",
    "    for text_file in files:\n",
    "        file_path = folder_path + \"/\" +text_file\n",
    "        with open(file_path, errors='replace') as f:\n",
    "            # data = f.readlines()\n",
    "            text_data = f.read().split('\\n')\n",
    "            text_data = list(filter(None, text_data))\n",
    "        # data = ' '.join(data)      \n",
    "\n",
    "        content.append(text_data)\n",
    "        category.append(folder)"
   ]
  },
  {
   "cell_type": "code",
   "execution_count": 111,
   "metadata": {
    "colab": {
     "base_uri": "https://localhost:8080/"
    },
    "executionInfo": {
     "elapsed": 15,
     "status": "ok",
     "timestamp": 1649079530798,
     "user": {
      "displayName": "Mân Nguyễn Huỳnh Huy",
      "userId": "05410369173119684721"
     },
     "user_tz": -420
    },
    "id": "ujBzRT9ulbQY",
    "outputId": "7bb126ac-a152-4028-e683-37d96d0f132f"
   },
   "outputs": [
    {
     "data": {
      "text/plain": [
       "2225"
      ]
     },
     "execution_count": 111,
     "metadata": {},
     "output_type": "execute_result"
    }
   ],
   "source": [
    "len(category)"
   ]
  },
  {
   "cell_type": "code",
   "execution_count": 112,
   "metadata": {
    "id": "ZlMONyEolfX3"
   },
   "outputs": [],
   "source": [
    "datadict = {'content':content, 'category':category}"
   ]
  },
  {
   "cell_type": "code",
   "execution_count": 113,
   "metadata": {
    "id": "frvJCIZKlnKm"
   },
   "outputs": [],
   "source": [
    "df = pd.DataFrame(datadict)\n",
    "df['content'] = df.content.astype(str)"
   ]
  },
  {
   "cell_type": "code",
   "execution_count": 114,
   "metadata": {
    "colab": {
     "base_uri": "https://localhost:8080/",
     "height": 175
    },
    "executionInfo": {
     "elapsed": 13,
     "status": "ok",
     "timestamp": 1649079530798,
     "user": {
      "displayName": "Mân Nguyễn Huỳnh Huy",
      "userId": "05410369173119684721"
     },
     "user_tz": -420
    },
    "id": "lAbqzmkXmAWZ",
    "outputId": "23052ac7-7250-450c-97f7-63a534b3ad4e"
   },
   "outputs": [
    {
     "data": {
      "text/html": [
       "<div>\n",
       "<style scoped>\n",
       "    .dataframe tbody tr th:only-of-type {\n",
       "        vertical-align: middle;\n",
       "    }\n",
       "\n",
       "    .dataframe tbody tr th {\n",
       "        vertical-align: top;\n",
       "    }\n",
       "\n",
       "    .dataframe thead th {\n",
       "        text-align: right;\n",
       "    }\n",
       "</style>\n",
       "<table border=\"1\" class=\"dataframe\">\n",
       "  <thead>\n",
       "    <tr style=\"text-align: right;\">\n",
       "      <th></th>\n",
       "      <th>content</th>\n",
       "      <th>category</th>\n",
       "    </tr>\n",
       "  </thead>\n",
       "  <tbody>\n",
       "    <tr>\n",
       "      <th>count</th>\n",
       "      <td>2225</td>\n",
       "      <td>2225</td>\n",
       "    </tr>\n",
       "    <tr>\n",
       "      <th>unique</th>\n",
       "      <td>2127</td>\n",
       "      <td>5</td>\n",
       "    </tr>\n",
       "    <tr>\n",
       "      <th>top</th>\n",
       "      <td>['Ray DVD beats box office takings', 'Oscar-no...</td>\n",
       "      <td>sport</td>\n",
       "    </tr>\n",
       "    <tr>\n",
       "      <th>freq</th>\n",
       "      <td>2</td>\n",
       "      <td>511</td>\n",
       "    </tr>\n",
       "  </tbody>\n",
       "</table>\n",
       "</div>"
      ],
      "text/plain": [
       "                                                  content category\n",
       "count                                                2225     2225\n",
       "unique                                               2127        5\n",
       "top     ['Ray DVD beats box office takings', 'Oscar-no...    sport\n",
       "freq                                                    2      511"
      ]
     },
     "execution_count": 114,
     "metadata": {},
     "output_type": "execute_result"
    }
   ],
   "source": [
    "df.describe()"
   ]
  },
  {
   "cell_type": "code",
   "execution_count": 115,
   "metadata": {
    "colab": {
     "base_uri": "https://localhost:8080/",
     "height": 206
    },
    "executionInfo": {
     "elapsed": 13,
     "status": "ok",
     "timestamp": 1649079530799,
     "user": {
      "displayName": "Mân Nguyễn Huỳnh Huy",
      "userId": "05410369173119684721"
     },
     "user_tz": -420
    },
    "id": "yT2CzZjrl17I",
    "outputId": "a77cb351-b994-47f1-ef54-558098afdf31"
   },
   "outputs": [
    {
     "data": {
      "text/html": [
       "<div>\n",
       "<style scoped>\n",
       "    .dataframe tbody tr th:only-of-type {\n",
       "        vertical-align: middle;\n",
       "    }\n",
       "\n",
       "    .dataframe tbody tr th {\n",
       "        vertical-align: top;\n",
       "    }\n",
       "\n",
       "    .dataframe thead th {\n",
       "        text-align: right;\n",
       "    }\n",
       "</style>\n",
       "<table border=\"1\" class=\"dataframe\">\n",
       "  <thead>\n",
       "    <tr style=\"text-align: right;\">\n",
       "      <th></th>\n",
       "      <th>content</th>\n",
       "      <th>category</th>\n",
       "    </tr>\n",
       "  </thead>\n",
       "  <tbody>\n",
       "    <tr>\n",
       "      <th>0</th>\n",
       "      <td>['Ad sales boost Time Warner profit', 'Quarter...</td>\n",
       "      <td>business</td>\n",
       "    </tr>\n",
       "    <tr>\n",
       "      <th>1</th>\n",
       "      <td>['Dollar gains on Greenspan speech', 'The doll...</td>\n",
       "      <td>business</td>\n",
       "    </tr>\n",
       "    <tr>\n",
       "      <th>2</th>\n",
       "      <td>['Yukos unit buyer faces loan claim', 'The own...</td>\n",
       "      <td>business</td>\n",
       "    </tr>\n",
       "    <tr>\n",
       "      <th>3</th>\n",
       "      <td>[\"High fuel prices hit BA's profits\", 'British...</td>\n",
       "      <td>business</td>\n",
       "    </tr>\n",
       "    <tr>\n",
       "      <th>4</th>\n",
       "      <td>['Pernod takeover talk lifts Domecq', \"Shares ...</td>\n",
       "      <td>business</td>\n",
       "    </tr>\n",
       "  </tbody>\n",
       "</table>\n",
       "</div>"
      ],
      "text/plain": [
       "                                             content  category\n",
       "0  ['Ad sales boost Time Warner profit', 'Quarter...  business\n",
       "1  ['Dollar gains on Greenspan speech', 'The doll...  business\n",
       "2  ['Yukos unit buyer faces loan claim', 'The own...  business\n",
       "3  [\"High fuel prices hit BA's profits\", 'British...  business\n",
       "4  ['Pernod takeover talk lifts Domecq', \"Shares ...  business"
      ]
     },
     "execution_count": 115,
     "metadata": {},
     "output_type": "execute_result"
    }
   ],
   "source": [
    "df.head()"
   ]
  },
  {
   "cell_type": "code",
   "execution_count": 116,
   "metadata": {
    "colab": {
     "base_uri": "https://localhost:8080/",
     "height": 122
    },
    "executionInfo": {
     "elapsed": 13,
     "status": "ok",
     "timestamp": 1649079530799,
     "user": {
      "displayName": "Mân Nguyễn Huỳnh Huy",
      "userId": "05410369173119684721"
     },
     "user_tz": -420
    },
    "id": "MfCMUDCdoifE",
    "outputId": "833c7ddf-a795-4f9a-8780-a8b5b96ca58e"
   },
   "outputs": [
    {
     "data": {
      "text/plain": [
       "'[\\'Dollar gains on Greenspan speech\\', \\'The dollar has hit its highest level against the euro in almost three months after the Federal Reserve head said the US trade deficit is set to stabilise.\\', \\'And Alan Greenspan highlighted the US government\\\\\\'s willingness to curb spending and rising household savings as factors which may help to reduce it. In late trading in New York, the dollar reached $1.2871 against the euro, from $1.2974 on Thursday. Market concerns about the deficit has hit the greenback in recent months. On Friday, Federal Reserve chairman Mr Greenspan\\\\\\'s speech in London ahead of the meeting of G7 finance ministers sent the dollar higher after it had earlier tumbled on the back of worse-than-expected US jobs data. \"I think the chairman\\\\\\'s taking a much more sanguine view on the current account deficit than he\\\\\\'s taken for some time,\" said Robert Sinche, head of currency strategy at Bank of America in New York. \"He\\\\\\'s taking a longer-term view, laying out a set of conditions '"
      ]
     },
     "execution_count": 116,
     "metadata": {},
     "output_type": "execute_result"
    }
   ],
   "source": [
    "df.content[1][:1000]"
   ]
  },
  {
   "cell_type": "code",
   "execution_count": 117,
   "metadata": {
    "colab": {
     "base_uri": "https://localhost:8080/"
    },
    "executionInfo": {
     "elapsed": 12,
     "status": "ok",
     "timestamp": 1649079530799,
     "user": {
      "displayName": "Mân Nguyễn Huỳnh Huy",
      "userId": "05410369173119684721"
     },
     "user_tz": -420
    },
    "id": "NkY_3PjCnp80",
    "outputId": "49f0341f-ff8e-462f-f813-090f00156780"
   },
   "outputs": [
    {
     "data": {
      "text/plain": [
       "sport            511\n",
       "business         510\n",
       "politics         417\n",
       "tech             401\n",
       "entertainment    386\n",
       "Name: category, dtype: int64"
      ]
     },
     "execution_count": 117,
     "metadata": {},
     "output_type": "execute_result"
    }
   ],
   "source": [
    "df.category.value_counts()"
   ]
  },
  {
   "cell_type": "code",
   "execution_count": 118,
   "metadata": {
    "colab": {
     "base_uri": "https://localhost:8080/",
     "height": 421
    },
    "executionInfo": {
     "elapsed": 11,
     "status": "ok",
     "timestamp": 1649079530799,
     "user": {
      "displayName": "Mân Nguyễn Huỳnh Huy",
      "userId": "05410369173119684721"
     },
     "user_tz": -420
    },
    "id": "WmzazD1soNM9",
    "outputId": "b186ebd9-8dcd-4616-b7cb-67c507dcd660"
   },
   "outputs": [
    {
     "data": {
      "image/png": "[encoded data removed]",
      "text/plain": [
       "<Figure size 576x432 with 1 Axes>"
      ]
     },
     "metadata": {
      "needs_background": "light"
     },
     "output_type": "display_data"
    }
   ],
   "source": [
    "bar_plot = df.category.value_counts().plot(kind='barh', figsize=(8, 6), color='teal')\n",
    "plt.xlabel(\"Nr. of Artciles\", labelpad=14)\n",
    "plt.ylabel(\"Category\", labelpad=14)\n",
    "plt.title(\"Nr. of Articles in category\", y=1.02, color='navy')\n",
    "\n",
    "for index, value in enumerate(df.category.value_counts()):\n",
    "    plt.text(value, index, str(value))"
   ]
  },
  {
   "cell_type": "markdown",
   "metadata": {
    "id": "OE0Q_5q6pjcR"
   },
   "source": [
    "**Label Encoder**"
   ]
  },
  {
   "cell_type": "code",
   "execution_count": 119,
   "metadata": {
    "colab": {
     "base_uri": "https://localhost:8080/",
     "height": 206
    },
    "executionInfo": {
     "elapsed": 11,
     "status": "ok",
     "timestamp": 1649079530800,
     "user": {
      "displayName": "Mân Nguyễn Huỳnh Huy",
      "userId": "05410369173119684721"
     },
     "user_tz": -420
    },
    "id": "eoNaUuEdpngv",
    "outputId": "b4696708-bf42-4533-c137-e11438ef2659"
   },
   "outputs": [
    {
     "data": {
      "text/html": [
       "<div>\n",
       "<style scoped>\n",
       "    .dataframe tbody tr th:only-of-type {\n",
       "        vertical-align: middle;\n",
       "    }\n",
       "\n",
       "    .dataframe tbody tr th {\n",
       "        vertical-align: top;\n",
       "    }\n",
       "\n",
       "    .dataframe thead th {\n",
       "        text-align: right;\n",
       "    }\n",
       "</style>\n",
       "<table border=\"1\" class=\"dataframe\">\n",
       "  <thead>\n",
       "    <tr style=\"text-align: right;\">\n",
       "      <th></th>\n",
       "      <th>content</th>\n",
       "      <th>category</th>\n",
       "      <th>label</th>\n",
       "    </tr>\n",
       "  </thead>\n",
       "  <tbody>\n",
       "    <tr>\n",
       "      <th>2220</th>\n",
       "      <td>['BT program to beat dialler scams', 'BT is in...</td>\n",
       "      <td>tech</td>\n",
       "      <td>4</td>\n",
       "    </tr>\n",
       "    <tr>\n",
       "      <th>2221</th>\n",
       "      <td>['Spam e-mails tempt net shoppers', 'Computer ...</td>\n",
       "      <td>tech</td>\n",
       "      <td>4</td>\n",
       "    </tr>\n",
       "    <tr>\n",
       "      <th>2222</th>\n",
       "      <td>['Be careful how you code', 'A new European di...</td>\n",
       "      <td>tech</td>\n",
       "      <td>4</td>\n",
       "    </tr>\n",
       "    <tr>\n",
       "      <th>2223</th>\n",
       "      <td>['US cyber security chief resigns', 'The man m...</td>\n",
       "      <td>tech</td>\n",
       "      <td>4</td>\n",
       "    </tr>\n",
       "    <tr>\n",
       "      <th>2224</th>\n",
       "      <td>['Losing yourself in online gaming', 'Online r...</td>\n",
       "      <td>tech</td>\n",
       "      <td>4</td>\n",
       "    </tr>\n",
       "  </tbody>\n",
       "</table>\n",
       "</div>"
      ],
      "text/plain": [
       "                                                content category  label\n",
       "2220  ['BT program to beat dialler scams', 'BT is in...     tech      4\n",
       "2221  ['Spam e-mails tempt net shoppers', 'Computer ...     tech      4\n",
       "2222  ['Be careful how you code', 'A new European di...     tech      4\n",
       "2223  ['US cyber security chief resigns', 'The man m...     tech      4\n",
       "2224  ['Losing yourself in online gaming', 'Online r...     tech      4"
      ]
     },
     "execution_count": 119,
     "metadata": {},
     "output_type": "execute_result"
    }
   ],
   "source": [
    "# 0 - business, 1 - entertainment, 2 - politics, 3 - sport, 4 - tech\n",
    "label_enc = LabelEncoder()\n",
    "df['label'] = label_enc.fit_transform(df['category'])\n",
    "df.tail()"
   ]
  },
  {
   "cell_type": "code",
   "execution_count": 120,
   "metadata": {
    "id": "JO3PNRg2p02X"
   },
   "outputs": [],
   "source": [
    "# An array of words\n",
    "df_txt = np.array(df['content'])"
   ]
  },
  {
   "cell_type": "code",
   "execution_count": 121,
   "metadata": {
    "colab": {
     "base_uri": "https://localhost:8080/"
    },
    "executionInfo": {
     "elapsed": 5,
     "status": "ok",
     "timestamp": 1649079531602,
     "user": {
      "displayName": "Mân Nguyễn Huỳnh Huy",
      "userId": "05410369173119684721"
     },
     "user_tz": -420
    },
    "id": "OBRWQYjIp6yy",
    "outputId": "2e06a1d7-8db4-43af-c629-d8124abce3de"
   },
   "outputs": [
    {
     "data": {
      "text/plain": [
       "array(['[\\'Ad sales boost Time Warner profit\\', \\'Quarterly profits at US media giant TimeWarner jumped 76% to $1.13bn (Â£600m) for the three months to December, from $639m year-earlier.\\', \\'The firm, which is now one of the biggest investors in Google, benefited from sales of high-speed internet connections and higher advert sales. TimeWarner said fourth quarter sales rose 2% to $11.1bn from $10.9bn. Its profits were buoyed by one-off gains which offset a profit dip at Warner Bros, and less users for AOL.\\', \"Time Warner said on Friday that it now owns 8% of search-engine Google. But its own internet business, AOL, had has mixed fortunes. It lost 464,000 subscribers in the fourth quarter profits were lower than in the preceding three quarters. However, the company said AOL\\'s underlying profit before exceptional items rose 8% on the back of stronger internet advertising revenues. It hopes to increase subscribers by offering the online service free to TimeWarner internet customers and will try to sign up AOL\\'s existing customers for high-speed broadband. TimeWarner also has to restate 2000 and 2003 results following a probe by the US Securities Exchange Commission (SEC), which is close to concluding.\", \\'Time Warner\\\\\\'s fourth quarter profits were slightly better than analysts\\\\\\' expectations. But its film division saw profits slump 27% to $284m, helped by box-office flops Alexander and Catwoman, a sharp contrast to year-earlier, when the third and final film in the Lord of the Rings trilogy boosted results. For the full-year, TimeWarner posted a profit of $3.36bn, up 27% from its 2003 performance, while revenues grew 6.4% to $42.09bn. \"Our financial performance was strong, meeting or exceeding all of our full-year objectives and greatly enhancing our flexibility,\" chairman and chief executive Richard Parsons said. For 2005, TimeWarner is projecting operating earnings growth of around 5%, and also expects higher revenue and wider profit margins.\\', \"TimeWarner is to restate its accounts as part of efforts to resolve an inquiry into AOL by US market regulators. It has already offered to pay $300m to settle charges, in a deal that is under review by the SEC. The company said it was unable to estimate the amount it needed to set aside for legal reserves, which it previously set at $500m. It intends to adjust the way it accounts for a deal with German music publisher Bertelsmann\\'s purchase of a stake in AOL Europe, which it had reported as advertising revenue. It will now book the sale of its stake in AOL Europe as a loss on the value of that stake.\"]',\n",
       "       '[\\'Dollar gains on Greenspan speech\\', \\'The dollar has hit its highest level against the euro in almost three months after the Federal Reserve head said the US trade deficit is set to stabilise.\\', \\'And Alan Greenspan highlighted the US government\\\\\\'s willingness to curb spending and rising household savings as factors which may help to reduce it. In late trading in New York, the dollar reached $1.2871 against the euro, from $1.2974 on Thursday. Market concerns about the deficit has hit the greenback in recent months. On Friday, Federal Reserve chairman Mr Greenspan\\\\\\'s speech in London ahead of the meeting of G7 finance ministers sent the dollar higher after it had earlier tumbled on the back of worse-than-expected US jobs data. \"I think the chairman\\\\\\'s taking a much more sanguine view on the current account deficit than he\\\\\\'s taken for some time,\" said Robert Sinche, head of currency strategy at Bank of America in New York. \"He\\\\\\'s taking a longer-term view, laying out a set of conditions under which the current account deficit can improve this year and next.\"\\', \\'Worries about the deficit concerns about China do, however, remain. China\\\\\\'s currency remains pegged to the dollar and the US currency\\\\\\'s sharp falls in recent months have therefore made Chinese export prices highly competitive. But calls for a shift in Beijing\\\\\\'s policy have fallen on deaf ears, despite recent comments in a major Chinese newspaper that the \"time is ripe\" for a loosening of the peg. The G7 meeting is thought unlikely to produce any meaningful movement in Chinese policy. In the meantime, the US Federal Reserve\\\\\\'s decision on 2 February to boost interest rates by a quarter of a point - the sixth such move in as many months - has opened up a differential with European rates. The half-point window, some believe, could be enough to keep US assets looking more attractive, and could help prop up the dollar. The recent falls have partly been the result of big budget deficits, as well as the US\\\\\\'s yawning current account gap, both of which need to be funded by the buying of US bonds and assets by foreign firms and governments. The White House will announce its budget on Monday, and many commentators believe the deficit will remain at close to half a trillion dollars.\\']',\n",
       "       '[\\'Yukos unit buyer faces loan claim\\', \\'The owners of embattled Russian oil giant Yukos are to ask the buyer of its former production unit to pay back a $900m (Â£479m) loan.\\', \\'State-owned Rosneft bought the Yugansk unit for $9.3bn in a sale forced by Russia to part settle a $27.5bn tax claim against Yukos. Yukos\\\\\\' owner Menatep Group says it will ask Rosneft to repay a loan that Yugansk had secured on its assets. Rosneft already faces a similar $540m repayment demand from foreign banks. Legal experts said Rosneft\\\\\\'s purchase of Yugansk would include such obligations. \"The pledged assets are with Rosneft, so it will have to pay real money to the creditors to avoid seizure of Yugansk assets,\" said Moscow-based US lawyer Jamie Firestone, who is not connected to the case. Menatep Group\\\\\\'s managing director Tim Osborne told the Reuters news agency: \"If they default, we will fight them where the rule of law exists under the international arbitration clauses of the credit.\"\\', \\'Rosneft officials were unavailable for comment. But the company has said it intends to take action against Menatep to recover some of the tax claims and debts owed by Yugansk. Yukos had filed for bankruptcy protection in a US court in an attempt to prevent the forced sale of its main production arm. The sale went ahead in December and Yugansk was sold to a little-known shell company which in turn was bought by Rosneft. Yukos claims its downfall was punishment for the political ambitions of its founder Mikhail Khodorkovsky and has vowed to sue any participant in the sale.\\']',\n",
       "       ...,\n",
       "       '[\\'Be careful how you code\\', \\'A new European directive could put software writers at risk of legal action, warns former programmer and technology analyst Bill Thompson.\\', \"If it gets its way, the Dutch government will conclude its presidency of the European Union by pushing through a controversial measure that has been rejected by the European Parliament, lacks majority support from national governments and will leave millions of European citizens in legal limbo and facing the possibility of court cases against them. If the new law was about border controls, defence or even the new constitution, then our TV screens would be full of experts agonising over the impact on our daily lives. Sadly for those who will be directly affected, the controversy concerns the patenting of computer programs, a topic that may excite the bloggers, campaigning groups and technical press but does not obsess Middle Britain. After all, how much fuss can you generate about the Directive on the Patentability of Computer-Implemented Inventions, and the way it amends Article 52 of the 1973 European Patent Convention? Yet if the new directive is nodded through at the next meeting of one of the EU\\'s ministerial councils, as seems likely, it will allow programs to be patented in Europe just as they are in the US. Many observers of the computing scene, including myself, think the results will be disastrous for small companies, innovative programmers and the free and open source software movement. It will let large companies patent all sorts of ideas and give legal force to those who want to limit their competitors\\' use of really obvious ideas.\", \\'In the US you cannot build a system that stores customer credit card details so that they can pay without having to re-enter them unless Amazon lets you, because they hold the patent on \"one-click\" online purchase. It is a small invention, but Amazon made it to the patent office first and now owns it.\\', \"We are relatively free from this sort of thing over here, but perhaps not for long. The new proposals go back to 2002, although argument about patentability of software and computer-implemented inventions has been going on since at least the mid-1980s. They have come to a head now after a year in which proposals were made, endorsed by the Council of Ministers, radically modified by the European Parliament and then re-presented in their original form. Some national governments seem to be aware of the problems. Poland has rejected the proposal and Germany\\'s main political parties have opposed it, but there is not enough opposition to guarantee their rejection. Early in December the British government held a consultation meeting with those who had commented on the proposals. Science Minister Lord Sainsbury went along to listen and outline the UK position, but according to those present, it was embarrassing to see how little the minister and his officials actually understood the issues concerned.\", \\'The draft Directive is being put through the council as what is called an \"A\" item and can only be approved or rejected. No discussion or amendment is allowed. So why should we be worried? First, there is the abuse of the democratic process involved in disregarding the views of the parliament and abandoning all of their carefully argued amendments. This goes to the heart of the European project, and even those who do not care about software or patents should be worried. If coders are treated like this today, who is to say that it will not be you tomorrow?\\', \"More directly, once software patents are granted then any programmer will have to worry that the code they are writing is infringing someone else\\'s patent. This is not about stealing software, as code is already protected by copyright. Patents are not copyright, but something much stronger. A patent gives the owner the right to stop anyone else using their invention, even if the other person invented it separately. I have never, to my shame, managed to read Lord Byron\\'s Childe Harold\\'s Pilgrimage. If it was pointed out that one of my articles contained a substantial chunk of the poem then I could defend myself in court by claiming that I had simply made it up and it was coincidence. The same does not hold for a patent. If I sit down this afternoon and write a brilliant graphics compression routine and it happens to be the same as the LZW algorithm used in GIF files, then I am in trouble under patent law, at least in the US. Coincidence is no defence. The proposed directive is supported by many of the major software companies, but this is hardly surprising since most of them are US-based and they have already had to cope with a legal environment that allows patents. They have legal departments and, more crucially, patents of their own which they can trade or cross-license with other patent holders.\", \"Even this system breaks down, of course, as Microsoft found out last year when they initially lost a case brought by Eolas which claimed that Internet Explorer (and other browsers) infringed an Eolas patent. That one was eventually thrown out, but only after months of uncertainty and millions of dollars. But small companies, and the free and open software movement do not have any patents to trade. Much of the really useful software we use every day, programs like the Apache web server, the GNU/Linux operating system and the fearsomely popular Firefox browser, is developed outside company structures by people who do not have legal departments to check for patent infringements. The damage to software will not happen overnight, of course. If the directive goes through it has to be written into national laws and then there will be a steady stream of legal actions against small companies and open source products. Eventually someone will decide to attack Linux directly, probably with some secret funding from one or two large players. The new directive will limit innovation by forcing programmers to spend time checking for patent infringements or simply avoiding working in potentially competitive areas. And it will damage Europe\\'s computer industry. We can only hope that the Council of Ministers has the integrity and strength to reject this bad law.\", \\'Bill Thompson is a regular commentator on the BBC World Service programme Go Digital.\\']',\n",
       "       '[\\'US cyber security chief resigns\\', \\'The man making sure US computer networks are safe and secure has resigned after only a year in his post.\\', \\'Amit Yoran was director of the National Cyber Security Division within the US Department of Homeland Security created following the 9/11 attacks. The division was tasked with improving US defences against malicious hackers, viruses and other net-based threats. Reports suggest he left because his division was not given enough clout within the larger organisation.\\', \\'Mr Yoran took up his post in September 2003 and his first task was to get the Cyber Security Division up and running. The organisation had a staff of about 60 people and a budget of about $80m (Â£44.54m). The division was charged with thinking up and carrying out action to make US networks more impervious to attack and disruption by the viruses, worms and hack attacks that have become commonplace.\\', \\'In the last 12 months Mr Yoran oversaw the creation of a cyber alert system that sends out warnings about big hitting viruses and net attacks as they occur. The warnings also contained information about how firms and organisations could protect themselves against these attacks. The Cyber Security Division also audited US government networks to discover exactly what was sitting on which network. The next step was to be the creation of a scanning system to identify vulnerabilities that made federal networks and machines susceptible to attack by malicious hackers and virus writers. Mr Yoran\\\\\\'s division was also doing work to identify the networks and machines that had been broken into by cyber criminals. Despite this success Mr Yoran left his post abruptly at the end of last week, reportedly only giving one day\\\\\\'s notice to bosses at the Department of Homeland Security. \"Amit Yoran has been a valuable contributor on cyber security issues over the past year, and we appreciate his efforts in starting the department\\\\\\'s cybersecurity program,\" said a Department of Homeland Security spokeswoman. Some reports have suggested that Mr Yoran felt frustrated by the lack of prominence given to work to protect against net-based threats in the wider homeland organisation. An attempt by US politicians to pass a law to promote Mr Yoran and raise the profile of his department\\\\\\'s work is now mired in Congress.\\']',\n",
       "       '[\\'Losing yourself in online gaming\\', \\'Online role playing games are time-consuming, but enthralling flights from reality. But are some people taking their fantasy lives too seriously?\\', \\'When video game World of Warcraft hit the shops in Europe last week fans wrote in to the BBC website to express their delight - and to offer a warning. \"An addiction to a game like this is far more costly in time than any substance could impair - keep track of time,\" wrote Travis Anderson, in Texas. Some of the comments were humorous: \"This game is so good I\\\\\\'m not going to get it, there\\\\\\'s no way I could limit the hours I\\\\\\'d spend playing it,\" wrote Charles MacIntyre, from England.\\', \\'But some struck a more worrying tone about the Massively Multiplayer Online Role Playing Game (MMORPG): \"\\\\\\'You need to get out more\\\\\\' could be the motto of any MMORPG. Shame they are getting more popular, as you know this problem is just going to mushroom,\" wrote Stuart Stanton-Davies, in Huddersfield. Scare-mongering articles about \"addictive video games\" have existed since the days the first game of Pong stopped everyone from working at the Atari offices.\\', \\'Gaming is like any other pastime - it can quickly become an unhealthy obsession, whether it is spending too much time in the gym, in front of the television, or reading poetry.\\', \\'Unfortunately, gaming and addiction is a far too easy association to make. However, stories about gamers spending 10 to 15 hours a day in front of some video games are becoming more frequent. And the impact that is having on their families is quite distressing for some.\\', \\'Massively multiplayer online role playing games - MMORPGs - allow thousands of gamers to share a common experience of sharing fantasy or science fiction worlds. The scope of these games - like Warcraft, EverQuest, Ultima among others - is epic, and exploration and adventure is almost infinite. Part of the \"problem\" is grinding - by which gamers have to perform long-winded, mindless tasks, to bring up their levels and gain access to more adventure. Such open-endedness brings with it a desire to keep playing; not for no reason is EverQuest (EQ) nicknamed EverCrack. E Hayot, writing in the culture blogzine Print Culture, said recently: \"I used to play the online role-playing game EverQuest a lot. \"By \\\\\\'a lot\\\\\\', I mean probably 15 to 20 hours a week on average, and on weeks where I didn\\\\\\'t have to work, as many as 30 or 40 hours.\"\\', \\'He says that in the world of online gaming such behaviour \"wasn\\\\\\'t that unusual; lots of people I knew in the game played EQ that much\". \"You lie; you don\\\\\\'t go into work because you \"had stuff to do at home\"; you cancel or refuse invitations to dinner, you spend much less time watching TV (a good thing, presumably),\" he wrote, explaining how EverQuest took over his time. He quit the game, he says, because he realised life was more fun than EverQuest.\\', \\'Let us be clear - such obsession is rare. But the huge growth in online gaming means a growth in the numbers of people who take their passion for a hobby too far. Almost 400,000 people bought a copy of World of Warcraft in the first two days on sale earlier this month. Only a fraction will descend into obsessives. The thoughts of families and friends of gamers who have been affected by EverQuest can be found on one blog EverQuest Daily Grind. Jane, who runs the website, compiles a chronicle of heart-rending stories. \"I am actually convinced at this point that there are more than \\\\\\'some\\\\\\' people who spend more times in MMOPRGs than in reality,\" she said. One unnamed correspondent - all are anonymous - wrote: \"On the rare nights when my husband does come to bed at the same time as I do, I find that I am so used to sleeping by myself that it is difficult to get to sleep with another body laying next to me.\\', \\'\"I can\\\\\\'t talk to him while he is playing. There is absolutely no point as he doesn\\\\\\'t hear me or is so distracted that I get a \\\\\\'ummm... ya\\\\\\' a few minutes after I ask him a question.\"\\', \\'\"Gaming widows\" has become a comedic term for women who have been shut out by male gamers. But for some it is not in the least funny. Another correspondent wrote: \"I believe that he is addicted to the online gaming, and that is the cause of his depression and restlessness.\" And some of them are even sadder: \"Today our son was five days old. \"The sad truth is my husband spent 11 hours today playing his Warcraft game. He did not interact with our sweet tiny baby because there were important quests waiting online.\" Video game fans often complain that their hobby is misunderstood or marginalised. But as gaming becomes ever more mainstream, and games ever more immersive, there will be no hiding place for social problems.\\', \"I wish 30-40 hours a week was unusual but I think it probably isn\\'t. An 11 hour stretch isn\\'t that surprising - I\\'ve known people to play 15+ hours at a stretch. I know of people who are spending their week\\'s holiday from work playing Warcraft. I know of people who would play Ever[Crack] in shifts...waking at 3am to take over from their friends and resume waiting for an item they \\'needed\\' to appear. I understand that the key sign of an addiction is if you alter your life around it rather than fit it into your life. By all standards many of us are addicts. So is the solution to force ourselves to stop playing..or do we just need to make real life a bit more interesting?\", \\'Sadly with all the talk of people becoming obsessed with gaming, I find myself longing to have the time to join them. I have been in a long term relationship for over 4 years - since that began, games have become more and more complex. And more and more so I find I have less and less time to play them, with and marriage and work being the main drag on my time.\\', \"I think the line between playing a game a lot and a gaming addiction is really quite distinct. I play games a lot, definately over 20 hours a week, but I don\\'t go missing work or other commitments in order to play games.\", \"I have, about a year ago, deleted every game on my computer. RPGs are the worst - the real world fades and all your worries sorround a new magic staff or mighty sword. Unlike books, or perhaps even TV, you gain absolutely nothing. When you stop playing you\\'re at the same point as when you started; all the achievements of your 10 hour session are irretrievably locked in the game and, since you\\'ve gained nothing in the real world, you may as well pile on more achievement in the fake one.\", \\'Despite having little monetary value, the \"rewards\" and encouragement offered by these MMORPGs is enough to hook games for hours daily. If only business could learn to leverage that very simply human need for easily measurable progress and recognition. Perhaps the unhealthily obsessed simply need more recognition for their achievements in reality?\\', \\'My advice to gaming widows is \"if you can\\\\\\'t beat \\\\\\'em, join \\\\\\'em\". That is, try playing it yourself. If he wants to play as well, well at least you\\\\\\'ll be together somewhere...\\', \\'I was an addict and it cost me my relationship. I still play now, but without the guilt , hehe, How long have i played in one sitting? From morning till the early hours of the next day, the birds were singing out side and i had to hobble to the bath room cos my bladder was so full i was in pain, i would hardly eat, perhaps some toast, smoke endlessly and drink. Now, thankfully the fascination has worn off and I have a girlfriend but still no job. For the most part online gaming give me an adiction to illusory achievement, and as there is no end in sight you keep going for the mirage of the ultimate.\\', \\'Obsessive behaviour is, of course, always cause for concern, but it always bothers me when articles about gaming talk in terms of \"reality\". Obviously, somebody who spends thirty hours a week playing EverQuest has a problem. This problem, however, has nothing to do with a dysfunctional sense of reality. An obsessive EQ player does not consider the game to be \"real\" any more than - for example - an obsessive automotive tinkerer considers their car to be human. If MMORPGs have a unique danger, in terms of encouraging obsessive behaviour, it is not that they create an absorbing virtual world, but rather that they can be easily accessed 24/7. The problem here does not lie with the nature of gaming, but with the nature of modern 24 hour culture.\\', \"The problem with these so called MMORPGS is that you can never really complete them, there\\'s always another quest to do. A few of my friends have only had about 10 hours sleep since it was released friday...\", \\'Championship Manager consumed my life for years. One particular session started at about 2pm on a Sunday, paused for a brief sleep at 5am on the Monday and after visit to University for classes restarted at about midday for another 10 hour session. The people who tend to hark on about about the problems of \"hardcore gaming\" seem to be those who have rarely allowed themselves to become immersed in a game. I would expect their perspective to change if they were to do that.\\', \\'I used to be an EverQuest addict while I was in college. It came to the point where the gaming world felt more real than the real one. I failed alot of my courses and was able to barely graduate. I was lucky that I came to my senses when I did, others were less fortunate and dropped out of college. Now that I am holding a job, I avoid online RPGS like the plague.\\', \\'When I was made redundant I told my partner I had a new job for three months whilst every day I played EverQuest from 7:30am till 5:pm. When She came home I pretended I had just got in as well, hence justifying playing it all evening. I have since quit playing MMORPG and have a good job.\\', \"When I got to the point where I was eating my dinner in front of the PC I realised things were getting silly so I\\'m trying not to spend so much time on there. It\\'s not easy. I feel as if I\\'ve got a real addiction going on here.\", \\'For me the problem is that I love to complete a goal. Once it is completed that is it, I am finished, time to move on. I become obsessed to complete the goal, so from that standpoint it is an addiction. In a game where you will never complete an \"ultimate\" goal, well it would be like falling into a black pit. It is easier to escape into a controlled fantasy world than face reality at times - in other words the goal offered in the PC game are \"easier\" and more fun than the real world. Pretty scary implications if you think about it.\\', \"I can\\'t buy World of Warcraft as it would destroy my marrage, I just know it!!\", \"I played Star Wars Galaxies for about a year and can attest to the addictiveness of these games. They are all engineered in such a way that early on in the game you progress quickly, but this progress becomes exponentially slower, requiring more and more time to reach the next level. I\\'m sad to say that at the peak of my addiction I was spending entire weekends in front of my monitor, slowly building up my character, stopping only for food and toilet breaks. Thankfully I made a clean break, and actually managed to sell my Jedi account for Â£800 - which is my only sanity check in an otherwise completely unproductive time vacuum.\", \\'Seven years ago, I began playing Ultima Online. This game dominated 2 years of my life. They were 2 wonderful years and I still have vivid memories of the experiences and friends I had. Online gaming can be a world of escapism where you can be yourself without fear of the thoughts of others. Something that cannot always be achieved in the day to day running of a normal life. Whilst I would warn against people giving to much of there life to these games, I believe they are a better way to spend your time than say watching TV.\\', \\'Gaming is addictive and should be made a recognised addiction. When I was single I used to play upto eight hours a night after work every night for about a year, building up my stats, completing evermore quests and battling ogres. But somehow I found time to get out, even met someone and got married! Has my life changed? Hell no! I still cast spells and battle till the early hours of the morning. On with the fun!\\', \\'Online gaming should be enjoyed just as much as you would enjoy watching television, or going to the cinema or the pub with your mates.\\', \\'Many people use recreational drugs on an occasional basis and are able to lead succesfull lives with families, relationships and good careers. A minority allow drugs to take over and destroy their lives and become addicted. According to this article the same is true of MMORPGs. The message to the government is clear, either legalise drugs, or outlaw online gaming!!\\', \\'Sounds like there are some sad stories here - and I can believe them all. I play alot of Warcraft myself, and know full well how addictive it is. I am resolute that it will not take over my life. It certainly gets in the way though. I think that some people simply do not know how to draw this line, or lack the willpower to stop themselves stepping over it.\\', \"I think I\\'m obsessed with gaming in general, I spend far too much time playing games like Everquest 2 and Football Manager rather than going out and interacting with real people and when I do try to, I\\'m always thinking in the back if my mind that I\\'d rather be in front of the computer winning the league with Cambridge United.\", \"I am obsessed with online role playing games. It\\'s not so much quests but it has the adrenaline of a real life situation - goals to achieve etc. I spend about five hours per day online playing it and I rarely get more than four to five hours sleep before getting up for work the next morning...\", \\'As many of the players spend their time in MMORPGs rather than in front of the TV I fail to see how it will affect players social lives negatively. Furthermore these types of games contain a huge social aspect, whereas other games and some other pursuits (such as being a couch potato) the players could be indulging in are solitary by nature.\\', \\'These games are like most things -- too much of anything is a bad thing, but as long as you can walk away from the computer to do other things too, they can be great fun.\\', \\'Living in Korea at the moment, they have lots PC Bangs (Internet Cafes). Nearly most of South Koreans are addicted to online games, and one Korean died because of the lack of food and water he had through playing online games.\\', \"I play xbox live every day. I find my self lying and rescheduling everything around my gaming fix. The longest I played was a 24 hour straight session. I know I play for to long but it\\'s an obsession that I can\\'t control. Can you reccomend a counsellor - this is not a wind up... but something I\\'m increasingly concerned with...\", \"Me and my mate play online for an hour or two a day, we\\'re both aware of how much time can disappear by sitting in front of a TV, trying to \\'frag\\' some individual. It\\'s getting the balance between getting home and relasing the stress of a day by an hour or so gaming, and enjoying \\'real\\' life...\", \"I bought the US version of World of Warcraft when it came out. The longest period I played was 23 hrs straight. I gave up the game after a month because it was so addictive, but have subsequently just bought the European version (couldn\\'t help myself). In future, I\\'m going to regulate my time far more strictly. Great game!\", \\'Having played MMORPG games for some years I agree that these type of games can be life sucking. But my concern is for the younger generation of gamers that play for hours on end in an adult enviroment. Most MMORPG games you need a credit card to play but I dont think parents know just what they are letting there children into.\\', \\'Unless there is undeniable medical proof that staring at a computer screens for hours at a time can damage a person&#191;s health, you can expect this not to decline but to get worse.\\', \\'These people are pathetic. They need to get off their machines and notice that our world is being swiftly overcome by issues and troubles that make the trifling worries of and \"online universe\" absolutely meaningless.\\', \\'24hours, when i was a kid at school and i was on half term, Ultima Online was the game, ahhhh them was the days ! LOL\\']'],\n",
       "      dtype=object)"
      ]
     },
     "execution_count": 121,
     "metadata": {},
     "output_type": "execute_result"
    }
   ],
   "source": [
    "df_txt"
   ]
  },
  {
   "cell_type": "markdown",
   "metadata": {
    "id": "fnKNyuaOqDIe"
   },
   "source": [
    "**Pre-process and vectorize text**"
   ]
  },
  {
   "cell_type": "code",
   "execution_count": 122,
   "metadata": {
    "id": "FL47CaKKqFTe"
   },
   "outputs": [],
   "source": [
    "stopwords = nltk.corpus.stopwords.words('english')\n",
    "\n",
    "def docs_preprocessor(docs):\n",
    "    # Remain only letters\n",
    "    tokenizer = RegexpTokenizer('[A-Za-z]\\w+')\n",
    "    \n",
    "    for idx in range(len(docs)):\n",
    "        # Convert to lowercase\n",
    "        docs[idx] = docs[idx].lower() \n",
    "        # Split into words\n",
    "        docs[idx] = tokenizer.tokenize(docs[idx])  \n",
    "    \n",
    "    # Lemmatize all words with len>2 in documents \n",
    "    lemmatizer = WordNetLemmatizer()\n",
    "    docs = [[nltk.stem.WordNetLemmatizer().lemmatize(token) for token in doc if len(token) > 2 and token not in stopwords] for doc in docs]\n",
    "    #stemmer = SnowballStemmer('english')\n",
    "    #docs = [[stemmer.stem(token) for token in doc if len(token) > 2 and token not in stopwords] for doc in docs]\n",
    "         \n",
    "    return docs"
   ]
  },
  {
   "cell_type": "code",
   "execution_count": 123,
   "metadata": {
    "id": "NPXgef5NqoCy"
   },
   "outputs": [],
   "source": [
    "df_txt = docs_preprocessor(df_txt)"
   ]
  },
  {
   "cell_type": "code",
   "execution_count": 124,
   "metadata": {
    "colab": {
     "base_uri": "https://localhost:8080/"
    },
    "executionInfo": {
     "elapsed": 8263,
     "status": "ok",
     "timestamp": 1649079543800,
     "user": {
      "displayName": "Mân Nguyễn Huỳnh Huy",
      "userId": "05410369173119684721"
     },
     "user_tz": -420
    },
    "id": "_rnorvInvwGR",
    "outputId": "0199989b-fec4-4ecb-f3df-beaba5658e55"
   },
   "outputs": [],
   "source": [
    "# Add bigrams and trigrams to docs (only ones that appear 10 times or more)\n",
    "bigram = Phrases(df_txt, min_count=10)\n",
    "trigram = Phrases(bigram[df_txt])\n",
    "\n",
    "for idx in range(len(df_txt)):\n",
    "    for token in bigram[df_txt[idx]]:\n",
    "        if '_' in token:\n",
    "            df_txt[idx].append(token)\n",
    "    for token in trigram[df_txt[idx]]:\n",
    "        if '_' in token:\n",
    "            df_txt[idx].append(token)"
   ]
  },
  {
   "cell_type": "markdown",
   "metadata": {
    "id": "Hd2paRxAvxxl"
   },
   "source": [
    "**Remove rare words**"
   ]
  },
  {
   "cell_type": "code",
   "execution_count": 125,
   "metadata": {
    "colab": {
     "base_uri": "https://localhost:8080/"
    },
    "executionInfo": {
     "elapsed": 724,
     "status": "ok",
     "timestamp": 1649079544522,
     "user": {
      "displayName": "Mân Nguyễn Huỳnh Huy",
      "userId": "05410369173119684721"
     },
     "user_tz": -420
    },
    "id": "aGMS6Yp-v6hW",
    "outputId": "4b552ecd-e212-4ce4-b6a8-d6601ec415c6"
   },
   "outputs": [
    {
     "name": "stdout",
     "output_type": "stream",
     "text": [
      "Nr. of unique words in initital documents: 27417\n",
      "Nr. of unique words after removing rare and common words: 5865\n"
     ]
    }
   ],
   "source": [
    "# Create a dictionary representation of the documents\n",
    "dictionary = Dictionary(df_txt)\n",
    "print('Nr. of unique words in initital documents:', len(dictionary))\n",
    "\n",
    "# Filter out words that occur less than 10 documents, or more than 20% of the documents\n",
    "dictionary.filter_extremes(no_below=10, no_above=0.2)\n",
    "print('Nr. of unique words after removing rare and common words:', len(dictionary))"
   ]
  },
  {
   "cell_type": "code",
   "execution_count": 126,
   "metadata": {
    "id": "XhLRjHY4v9W2"
   },
   "outputs": [],
   "source": [
    "df['text2'] = df_txt"
   ]
  },
  {
   "cell_type": "code",
   "execution_count": 127,
   "metadata": {
    "id": "Orb-D4clwGE1"
   },
   "outputs": [],
   "source": [
    "df['text3'] = [' '.join(map(str, j)) for j in df['text2']]"
   ]
  },
  {
   "cell_type": "code",
   "execution_count": 128,
   "metadata": {
    "colab": {
     "base_uri": "https://localhost:8080/",
     "height": 206
    },
    "executionInfo": {
     "elapsed": 14,
     "status": "ok",
     "timestamp": 1649079544524,
     "user": {
      "displayName": "Mân Nguyễn Huỳnh Huy",
      "userId": "05410369173119684721"
     },
     "user_tz": -420
    },
    "id": "YzxAmzlzwKsh",
    "outputId": "4bfdfa34-23c8-41c7-c635-3bf6c5caf73a"
   },
   "outputs": [
    {
     "data": {
      "text/html": [
       "<div>\n",
       "<style scoped>\n",
       "    .dataframe tbody tr th:only-of-type {\n",
       "        vertical-align: middle;\n",
       "    }\n",
       "\n",
       "    .dataframe tbody tr th {\n",
       "        vertical-align: top;\n",
       "    }\n",
       "\n",
       "    .dataframe thead th {\n",
       "        text-align: right;\n",
       "    }\n",
       "</style>\n",
       "<table border=\"1\" class=\"dataframe\">\n",
       "  <thead>\n",
       "    <tr style=\"text-align: right;\">\n",
       "      <th></th>\n",
       "      <th>content</th>\n",
       "      <th>category</th>\n",
       "      <th>label</th>\n",
       "      <th>text2</th>\n",
       "      <th>text3</th>\n",
       "    </tr>\n",
       "  </thead>\n",
       "  <tbody>\n",
       "    <tr>\n",
       "      <th>1475</th>\n",
       "      <td>['Arsenal through on penalties', 'Arsenal win ...</td>\n",
       "      <td>sport</td>\n",
       "      <td>3</td>\n",
       "      <td>[arsenal, penalty, arsenal, win, penalty, span...</td>\n",
       "      <td>arsenal penalty arsenal win penalty spanish go...</td>\n",
       "    </tr>\n",
       "    <tr>\n",
       "      <th>1476</th>\n",
       "      <td>['Ajax refuse to rule out Jol move', \"Ajax hav...</td>\n",
       "      <td>sport</td>\n",
       "      <td>3</td>\n",
       "      <td>[ajax, refuse, rule, jol, move, ajax, refused,...</td>\n",
       "      <td>ajax refuse rule jol move ajax refused reveal ...</td>\n",
       "    </tr>\n",
       "    <tr>\n",
       "      <th>1477</th>\n",
       "      <td>['Unclear future for striker Baros', \"Liverpoo...</td>\n",
       "      <td>sport</td>\n",
       "      <td>3</td>\n",
       "      <td>[unclear, future, striker, baros, liverpool, f...</td>\n",
       "      <td>unclear future striker baros liverpool forward...</td>\n",
       "    </tr>\n",
       "    <tr>\n",
       "      <th>1478</th>\n",
       "      <td>['Prutton poised for lengthy FA ban', \"Southam...</td>\n",
       "      <td>sport</td>\n",
       "      <td>3</td>\n",
       "      <td>[prutton, poised, lengthy, ban, southampton, d...</td>\n",
       "      <td>prutton poised lengthy ban southampton david p...</td>\n",
       "    </tr>\n",
       "    <tr>\n",
       "      <th>1479</th>\n",
       "      <td>['Robben plays down European return', 'Injured...</td>\n",
       "      <td>sport</td>\n",
       "      <td>3</td>\n",
       "      <td>[robben, play, european, return, injured, chel...</td>\n",
       "      <td>robben play european return injured chelsea wi...</td>\n",
       "    </tr>\n",
       "  </tbody>\n",
       "</table>\n",
       "</div>"
      ],
      "text/plain": [
       "                                                content category  label  \\\n",
       "1475  ['Arsenal through on penalties', 'Arsenal win ...    sport      3   \n",
       "1476  ['Ajax refuse to rule out Jol move', \"Ajax hav...    sport      3   \n",
       "1477  ['Unclear future for striker Baros', \"Liverpoo...    sport      3   \n",
       "1478  ['Prutton poised for lengthy FA ban', \"Southam...    sport      3   \n",
       "1479  ['Robben plays down European return', 'Injured...    sport      3   \n",
       "\n",
       "                                                  text2  \\\n",
       "1475  [arsenal, penalty, arsenal, win, penalty, span...   \n",
       "1476  [ajax, refuse, rule, jol, move, ajax, refused,...   \n",
       "1477  [unclear, future, striker, baros, liverpool, f...   \n",
       "1478  [prutton, poised, lengthy, ban, southampton, d...   \n",
       "1479  [robben, play, european, return, injured, chel...   \n",
       "\n",
       "                                                  text3  \n",
       "1475  arsenal penalty arsenal win penalty spanish go...  \n",
       "1476  ajax refuse rule jol move ajax refused reveal ...  \n",
       "1477  unclear future striker baros liverpool forward...  \n",
       "1478  prutton poised lengthy ban southampton david p...  \n",
       "1479  robben play european return injured chelsea wi...  "
      ]
     },
     "execution_count": 128,
     "metadata": {},
     "output_type": "execute_result"
    }
   ],
   "source": [
    "df.iloc[1475:1480,:]"
   ]
  },
  {
   "cell_type": "markdown",
   "metadata": {
    "id": "X0EcKywtwQWA"
   },
   "source": [
    "**Word Vectors**"
   ]
  },
  {
   "cell_type": "code",
   "execution_count": 129,
   "metadata": {
    "colab": {
     "base_uri": "https://localhost:8080/"
    },
    "executionInfo": {
     "elapsed": 2594,
     "status": "ok",
     "timestamp": 1649079547105,
     "user": {
      "displayName": "Mân Nguyễn Huỳnh Huy",
      "userId": "05410369173119684721"
     },
     "user_tz": -420
    },
    "id": "6-WL0NpwwPCA",
    "outputId": "9ca89d36-e6b1-45ca-85ee-f9d0e8d4c094"
   },
   "outputs": [
    {
     "name": "stderr",
     "output_type": "stream",
     "text": [
      "C:\\Users\\man28\\AppData\\Local\\Programs\\Python\\Python310\\lib\\site-packages\\sklearn\\utils\\deprecation.py:87: FutureWarning: Function get_feature_names is deprecated; get_feature_names is deprecated in 1.0 and will be removed in 1.2. Please use get_feature_names_out instead.\n",
      "  warnings.warn(msg, category=FutureWarning)\n"
     ]
    }
   ],
   "source": [
    "vectorizer = TfidfVectorizer(input='content', analyzer = 'word', lowercase=True, stop_words='english',\\\n",
    "                                   ngram_range=(1, 3), min_df=40, max_df=0.20,\\\n",
    "                                  norm='l2', use_idf=True, smooth_idf=True, sublinear_tf=True)\n",
    "text_vector = vectorizer.fit_transform(df.text3)\n",
    "dtm = text_vector.toarray()\n",
    "features = vectorizer.get_feature_names()"
   ]
  },
  {
   "cell_type": "code",
   "execution_count": 130,
   "metadata": {
    "colab": {
     "base_uri": "https://localhost:8080/",
     "height": 462
    },
    "executionInfo": {
     "elapsed": 7,
     "status": "ok",
     "timestamp": 1649079547106,
     "user": {
      "displayName": "Mân Nguyễn Huỳnh Huy",
      "userId": "05410369173119684721"
     },
     "user_tz": -420
    },
    "id": "kYfcBGqFwgKX",
    "outputId": "744e2b65-2542-4df1-cecd-313834d16745"
   },
   "outputs": [
    {
     "data": {
      "text/html": [
       "<div>\n",
       "<style scoped>\n",
       "    .dataframe tbody tr th:only-of-type {\n",
       "        vertical-align: middle;\n",
       "    }\n",
       "\n",
       "    .dataframe tbody tr th {\n",
       "        vertical-align: top;\n",
       "    }\n",
       "\n",
       "    .dataframe thead th {\n",
       "        text-align: right;\n",
       "    }\n",
       "</style>\n",
       "<table border=\"1\" class=\"dataframe\">\n",
       "  <thead>\n",
       "    <tr style=\"text-align: right;\">\n",
       "      <th></th>\n",
       "      <th>clearly</th>\n",
       "      <th>client</th>\n",
       "      <th>clive</th>\n",
       "      <th>close</th>\n",
       "      <th>closed</th>\n",
       "      <th>closely</th>\n",
       "      <th>closer</th>\n",
       "      <th>club</th>\n",
       "      <th>coach</th>\n",
       "      <th>code</th>\n",
       "      <th>colleague</th>\n",
       "      <th>collection</th>\n",
       "      <th>comedy</th>\n",
       "      <th>coming</th>\n",
       "      <th>comment</th>\n",
       "      <th>commercial</th>\n",
       "      <th>commission</th>\n",
       "      <th>commitment</th>\n",
       "      <th>committed</th>\n",
       "      <th>committee</th>\n",
       "    </tr>\n",
       "  </thead>\n",
       "  <tbody>\n",
       "    <tr>\n",
       "      <th>990</th>\n",
       "      <td>0.0</td>\n",
       "      <td>0.0</td>\n",
       "      <td>0.0</td>\n",
       "      <td>0.0</td>\n",
       "      <td>0.0</td>\n",
       "      <td>0.0</td>\n",
       "      <td>0.0</td>\n",
       "      <td>0.0</td>\n",
       "      <td>0.0</td>\n",
       "      <td>0.0</td>\n",
       "      <td>0.000000</td>\n",
       "      <td>0.0</td>\n",
       "      <td>0.0</td>\n",
       "      <td>0.000000</td>\n",
       "      <td>0.000000</td>\n",
       "      <td>0.0</td>\n",
       "      <td>0.0</td>\n",
       "      <td>0.0</td>\n",
       "      <td>0.000000</td>\n",
       "      <td>0.0</td>\n",
       "    </tr>\n",
       "    <tr>\n",
       "      <th>991</th>\n",
       "      <td>0.0</td>\n",
       "      <td>0.0</td>\n",
       "      <td>0.0</td>\n",
       "      <td>0.0</td>\n",
       "      <td>0.0</td>\n",
       "      <td>0.0</td>\n",
       "      <td>0.0</td>\n",
       "      <td>0.0</td>\n",
       "      <td>0.0</td>\n",
       "      <td>0.0</td>\n",
       "      <td>0.000000</td>\n",
       "      <td>0.0</td>\n",
       "      <td>0.0</td>\n",
       "      <td>0.000000</td>\n",
       "      <td>0.000000</td>\n",
       "      <td>0.0</td>\n",
       "      <td>0.0</td>\n",
       "      <td>0.0</td>\n",
       "      <td>0.000000</td>\n",
       "      <td>0.0</td>\n",
       "    </tr>\n",
       "    <tr>\n",
       "      <th>992</th>\n",
       "      <td>0.0</td>\n",
       "      <td>0.0</td>\n",
       "      <td>0.0</td>\n",
       "      <td>0.0</td>\n",
       "      <td>0.0</td>\n",
       "      <td>0.0</td>\n",
       "      <td>0.0</td>\n",
       "      <td>0.0</td>\n",
       "      <td>0.0</td>\n",
       "      <td>0.0</td>\n",
       "      <td>0.000000</td>\n",
       "      <td>0.0</td>\n",
       "      <td>0.0</td>\n",
       "      <td>0.000000</td>\n",
       "      <td>0.000000</td>\n",
       "      <td>0.0</td>\n",
       "      <td>0.0</td>\n",
       "      <td>0.0</td>\n",
       "      <td>0.000000</td>\n",
       "      <td>0.0</td>\n",
       "    </tr>\n",
       "    <tr>\n",
       "      <th>993</th>\n",
       "      <td>0.0</td>\n",
       "      <td>0.0</td>\n",
       "      <td>0.0</td>\n",
       "      <td>0.0</td>\n",
       "      <td>0.0</td>\n",
       "      <td>0.0</td>\n",
       "      <td>0.0</td>\n",
       "      <td>0.0</td>\n",
       "      <td>0.0</td>\n",
       "      <td>0.0</td>\n",
       "      <td>0.000000</td>\n",
       "      <td>0.0</td>\n",
       "      <td>0.0</td>\n",
       "      <td>0.000000</td>\n",
       "      <td>0.000000</td>\n",
       "      <td>0.0</td>\n",
       "      <td>0.0</td>\n",
       "      <td>0.0</td>\n",
       "      <td>0.161645</td>\n",
       "      <td>0.0</td>\n",
       "    </tr>\n",
       "    <tr>\n",
       "      <th>994</th>\n",
       "      <td>0.0</td>\n",
       "      <td>0.0</td>\n",
       "      <td>0.0</td>\n",
       "      <td>0.0</td>\n",
       "      <td>0.0</td>\n",
       "      <td>0.0</td>\n",
       "      <td>0.0</td>\n",
       "      <td>0.0</td>\n",
       "      <td>0.0</td>\n",
       "      <td>0.0</td>\n",
       "      <td>0.000000</td>\n",
       "      <td>0.0</td>\n",
       "      <td>0.0</td>\n",
       "      <td>0.059623</td>\n",
       "      <td>0.000000</td>\n",
       "      <td>0.0</td>\n",
       "      <td>0.0</td>\n",
       "      <td>0.0</td>\n",
       "      <td>0.000000</td>\n",
       "      <td>0.0</td>\n",
       "    </tr>\n",
       "    <tr>\n",
       "      <th>995</th>\n",
       "      <td>0.0</td>\n",
       "      <td>0.0</td>\n",
       "      <td>0.0</td>\n",
       "      <td>0.0</td>\n",
       "      <td>0.0</td>\n",
       "      <td>0.0</td>\n",
       "      <td>0.0</td>\n",
       "      <td>0.0</td>\n",
       "      <td>0.0</td>\n",
       "      <td>0.0</td>\n",
       "      <td>0.000000</td>\n",
       "      <td>0.0</td>\n",
       "      <td>0.0</td>\n",
       "      <td>0.000000</td>\n",
       "      <td>0.066520</td>\n",
       "      <td>0.0</td>\n",
       "      <td>0.0</td>\n",
       "      <td>0.0</td>\n",
       "      <td>0.000000</td>\n",
       "      <td>0.0</td>\n",
       "    </tr>\n",
       "    <tr>\n",
       "      <th>996</th>\n",
       "      <td>0.0</td>\n",
       "      <td>0.0</td>\n",
       "      <td>0.0</td>\n",
       "      <td>0.0</td>\n",
       "      <td>0.0</td>\n",
       "      <td>0.0</td>\n",
       "      <td>0.0</td>\n",
       "      <td>0.0</td>\n",
       "      <td>0.0</td>\n",
       "      <td>0.0</td>\n",
       "      <td>0.000000</td>\n",
       "      <td>0.0</td>\n",
       "      <td>0.0</td>\n",
       "      <td>0.000000</td>\n",
       "      <td>0.000000</td>\n",
       "      <td>0.0</td>\n",
       "      <td>0.0</td>\n",
       "      <td>0.0</td>\n",
       "      <td>0.000000</td>\n",
       "      <td>0.0</td>\n",
       "    </tr>\n",
       "    <tr>\n",
       "      <th>997</th>\n",
       "      <td>0.0</td>\n",
       "      <td>0.0</td>\n",
       "      <td>0.0</td>\n",
       "      <td>0.0</td>\n",
       "      <td>0.0</td>\n",
       "      <td>0.0</td>\n",
       "      <td>0.0</td>\n",
       "      <td>0.0</td>\n",
       "      <td>0.0</td>\n",
       "      <td>0.0</td>\n",
       "      <td>0.077288</td>\n",
       "      <td>0.0</td>\n",
       "      <td>0.0</td>\n",
       "      <td>0.000000</td>\n",
       "      <td>0.059858</td>\n",
       "      <td>0.0</td>\n",
       "      <td>0.0</td>\n",
       "      <td>0.0</td>\n",
       "      <td>0.000000</td>\n",
       "      <td>0.0</td>\n",
       "    </tr>\n",
       "    <tr>\n",
       "      <th>998</th>\n",
       "      <td>0.0</td>\n",
       "      <td>0.0</td>\n",
       "      <td>0.0</td>\n",
       "      <td>0.0</td>\n",
       "      <td>0.0</td>\n",
       "      <td>0.0</td>\n",
       "      <td>0.0</td>\n",
       "      <td>0.0</td>\n",
       "      <td>0.0</td>\n",
       "      <td>0.0</td>\n",
       "      <td>0.000000</td>\n",
       "      <td>0.0</td>\n",
       "      <td>0.0</td>\n",
       "      <td>0.000000</td>\n",
       "      <td>0.000000</td>\n",
       "      <td>0.0</td>\n",
       "      <td>0.0</td>\n",
       "      <td>0.0</td>\n",
       "      <td>0.000000</td>\n",
       "      <td>0.0</td>\n",
       "    </tr>\n",
       "    <tr>\n",
       "      <th>999</th>\n",
       "      <td>0.0</td>\n",
       "      <td>0.0</td>\n",
       "      <td>0.0</td>\n",
       "      <td>0.0</td>\n",
       "      <td>0.0</td>\n",
       "      <td>0.0</td>\n",
       "      <td>0.0</td>\n",
       "      <td>0.0</td>\n",
       "      <td>0.0</td>\n",
       "      <td>0.0</td>\n",
       "      <td>0.000000</td>\n",
       "      <td>0.0</td>\n",
       "      <td>0.0</td>\n",
       "      <td>0.067769</td>\n",
       "      <td>0.000000</td>\n",
       "      <td>0.0</td>\n",
       "      <td>0.0</td>\n",
       "      <td>0.0</td>\n",
       "      <td>0.000000</td>\n",
       "      <td>0.0</td>\n",
       "    </tr>\n",
       "  </tbody>\n",
       "</table>\n",
       "</div>"
      ],
      "text/plain": [
       "     clearly  client  clive  close  closed  closely  closer  club  coach  \\\n",
       "990      0.0     0.0    0.0    0.0     0.0      0.0     0.0   0.0    0.0   \n",
       "991      0.0     0.0    0.0    0.0     0.0      0.0     0.0   0.0    0.0   \n",
       "992      0.0     0.0    0.0    0.0     0.0      0.0     0.0   0.0    0.0   \n",
       "993      0.0     0.0    0.0    0.0     0.0      0.0     0.0   0.0    0.0   \n",
       "994      0.0     0.0    0.0    0.0     0.0      0.0     0.0   0.0    0.0   \n",
       "995      0.0     0.0    0.0    0.0     0.0      0.0     0.0   0.0    0.0   \n",
       "996      0.0     0.0    0.0    0.0     0.0      0.0     0.0   0.0    0.0   \n",
       "997      0.0     0.0    0.0    0.0     0.0      0.0     0.0   0.0    0.0   \n",
       "998      0.0     0.0    0.0    0.0     0.0      0.0     0.0   0.0    0.0   \n",
       "999      0.0     0.0    0.0    0.0     0.0      0.0     0.0   0.0    0.0   \n",
       "\n",
       "     code  colleague  collection  comedy    coming   comment  commercial  \\\n",
       "990   0.0   0.000000         0.0     0.0  0.000000  0.000000         0.0   \n",
       "991   0.0   0.000000         0.0     0.0  0.000000  0.000000         0.0   \n",
       "992   0.0   0.000000         0.0     0.0  0.000000  0.000000         0.0   \n",
       "993   0.0   0.000000         0.0     0.0  0.000000  0.000000         0.0   \n",
       "994   0.0   0.000000         0.0     0.0  0.059623  0.000000         0.0   \n",
       "995   0.0   0.000000         0.0     0.0  0.000000  0.066520         0.0   \n",
       "996   0.0   0.000000         0.0     0.0  0.000000  0.000000         0.0   \n",
       "997   0.0   0.077288         0.0     0.0  0.000000  0.059858         0.0   \n",
       "998   0.0   0.000000         0.0     0.0  0.000000  0.000000         0.0   \n",
       "999   0.0   0.000000         0.0     0.0  0.067769  0.000000         0.0   \n",
       "\n",
       "     commission  commitment  committed  committee  \n",
       "990         0.0         0.0   0.000000        0.0  \n",
       "991         0.0         0.0   0.000000        0.0  \n",
       "992         0.0         0.0   0.000000        0.0  \n",
       "993         0.0         0.0   0.161645        0.0  \n",
       "994         0.0         0.0   0.000000        0.0  \n",
       "995         0.0         0.0   0.000000        0.0  \n",
       "996         0.0         0.0   0.000000        0.0  \n",
       "997         0.0         0.0   0.000000        0.0  \n",
       "998         0.0         0.0   0.000000        0.0  \n",
       "999         0.0         0.0   0.000000        0.0  "
      ]
     },
     "execution_count": 130,
     "metadata": {},
     "output_type": "execute_result"
    }
   ],
   "source": [
    "h = pd.DataFrame(data = text_vector.todense(), columns = vectorizer.get_feature_names())\n",
    "h.iloc[990:1000,280:300]"
   ]
  },
  {
   "cell_type": "code",
   "execution_count": 131,
   "metadata": {
    "id": "tBKkMwFswlDo"
   },
   "outputs": [],
   "source": [
    "corpus = [dictionary.doc2bow(txt) for txt in df_txt]"
   ]
  },
  {
   "cell_type": "code",
   "execution_count": 132,
   "metadata": {
    "colab": {
     "base_uri": "https://localhost:8080/"
    },
    "executionInfo": {
     "elapsed": 5,
     "status": "ok",
     "timestamp": 1649079547106,
     "user": {
      "displayName": "Mân Nguyễn Huỳnh Huy",
      "userId": "05410369173119684721"
     },
     "user_tz": -420
    },
    "id": "MXCYZiJewm7Y",
    "outputId": "6f940d86-5628-4ae0-f128-1bb4cde88a24"
   },
   "outputs": [
    {
     "name": "stdout",
     "output_type": "stream",
     "text": [
      "Number of unique tokens: 5865\n",
      "Number of documents: 2225\n"
     ]
    }
   ],
   "source": [
    "print(f'Number of unique tokens: {len(dictionary)}')\n",
    "print(f'Number of documents: {len(corpus)}')"
   ]
  },
  {
   "cell_type": "markdown",
   "metadata": {
    "id": "7Ec75bEcwuC4"
   },
   "source": [
    "#Clustering using Latent Dirichlet Allocation (LDA)"
   ]
  },
  {
   "cell_type": "code",
   "execution_count": 133,
   "metadata": {
    "id": "t98AZFu7wvMv"
   },
   "outputs": [],
   "source": [
    "# Set training parameters\n",
    "num_topics = 5\n",
    "chunksize = 500 # Number of documents to consider at once (affects the memory consumption)\n",
    "passes = 20 # Number of passes through documents\n",
    "iterations = 20000\n",
    "eval_every = 1  \n",
    "\n",
    "# Make a index to word dictionary\n",
    "temp = dictionary[0] \n",
    "id2word = dictionary.id2token\n",
    "\n",
    "model = LdaModel(corpus=corpus, id2word=id2word, chunksize=chunksize, \\\n",
    "                       alpha='auto', eta='auto', random_state=78, \\\n",
    "                       iterations=iterations, num_topics=num_topics, \\\n",
    "                       passes=passes, eval_every=eval_every)"
   ]
  },
  {
   "cell_type": "code",
   "execution_count": 134,
   "metadata": {
    "colab": {
     "base_uri": "https://localhost:8080/"
    },
    "executionInfo": {
     "elapsed": 17,
     "status": "ok",
     "timestamp": 1649082589746,
     "user": {
      "displayName": "Mân Nguyễn Huỳnh Huy",
      "userId": "05410369173119684721"
     },
     "user_tz": -420
    },
    "id": "4kq8rxXQw5i7",
    "outputId": "7b902c54-0f91-4820-fbe0-e9419e938e64"
   },
   "outputs": [
    {
     "name": "stdout",
     "output_type": "stream",
     "text": [
      "term                 frequency\n",
      "\n",
      "Topic 0\n",
      "\n",
      "year_old             0.014\n",
      "film                 0.011\n",
      "best                 0.010\n",
      "last_year            0.007\n",
      "award                0.007\n",
      "star                 0.005\n",
      "win                  0.005\n",
      "old                  0.005\n",
      "final                0.005\n",
      "show                 0.004\n",
      "\n",
      "\n",
      "Topic 1\n",
      "\n",
      "game                 0.031\n",
      "player               0.010\n",
      "play                 0.008\n",
      "england              0.008\n",
      "six_nation           0.006\n",
      "half                 0.005\n",
      "playing              0.005\n",
      "side                 0.005\n",
      "team                 0.005\n",
      "video_game           0.005\n",
      "\n",
      "\n",
      "Topic 2\n",
      "\n",
      "prime_minister       0.007\n",
      "labour               0.006\n",
      "party                0.006\n",
      "election             0.006\n",
      "minister             0.006\n",
      "blair                0.005\n",
      "law                  0.004\n",
      "plan                 0.004\n",
      "tory                 0.004\n",
      "tony_blair           0.004\n",
      "\n",
      "\n",
      "Topic 3\n",
      "\n",
      "mobile               0.010\n",
      "technology           0.009\n",
      "phone                0.009\n",
      "service              0.008\n",
      "mobile_phone         0.008\n",
      "user                 0.007\n",
      "music                0.007\n",
      "computer             0.006\n",
      "net                  0.006\n",
      "digital              0.006\n",
      "\n",
      "\n",
      "Topic 4\n",
      "\n",
      "market               0.010\n",
      "high_definition      0.009\n",
      "sale                 0.008\n",
      "last_year            0.008\n",
      "dvd                  0.006\n",
      "high                 0.006\n",
      "sony                 0.006\n",
      "price                0.005\n",
      "chief_executive      0.005\n",
      "share                0.005\n",
      "\n",
      "\n"
     ]
    }
   ],
   "source": [
    "# Frequency of top words in each topic\n",
    "def explore_topic(lda_model, topic_number, topn, output=True):\n",
    "    terms = []\n",
    "    for term, frequency in lda_model.show_topic(topic_number, topn=topn):\n",
    "        terms += [term]\n",
    "        if output:\n",
    "            print(u'{:20} {:.3f}'.format(term, round(frequency, 3)))   \n",
    "    return terms\n",
    "\n",
    "topic_summaries = []\n",
    "\n",
    "print(u'{:20} {}'.format(u'term', u'frequency') + u'\\n')\n",
    "for i in range(num_topics):\n",
    "    print('Topic '+str(i)+'\\n')\n",
    "    tmp = explore_topic(model,topic_number=i, topn=10, output=True)\n",
    "    topic_summaries += [tmp[:5]]\n",
    "    print('\\n')"
   ]
  },
  {
   "cell_type": "code",
   "execution_count": 135,
   "metadata": {
    "id": "uRb7Wvjxw9TQ"
   },
   "outputs": [],
   "source": [
    "# Assign a human-interpretable \n",
    "top_labels = {0: 'business', 1:'sport', 2:'tech', 3:'entertainment', 4:'politics'}"
   ]
  },
  {
   "cell_type": "code",
   "execution_count": 136,
   "metadata": {
    "id": "i7csUstXw_AZ"
   },
   "outputs": [],
   "source": [
    "top_dist =[]\n",
    "for d in corpus:\n",
    "    tmp = {i:0 for i in range(num_topics)}\n",
    "    tmp.update(dict(model[d]))\n",
    "    vals = list(OrderedDict(tmp).values())\n",
    "    top_dist += [array(vals)]\n",
    "\n",
    "def get_doc_topic_dist(model, corpus, kwords=False):\n",
    "    '''\n",
    "    LDA transformation, for each doc only returns topics with non-zero weight\n",
    "    This function makes a matrix transformation of docs in the topic space.\n",
    "    \n",
    "    model: the LDA model\n",
    "    corpus: the documents\n",
    "    kwords: if True adds and returns the keys\n",
    "    '''\n",
    "    top_dist =[]\n",
    "    keys = []\n",
    "\n",
    "    for d in corpus:\n",
    "        tmp = {i:0 for i in range(num_topics)}\n",
    "        tmp.update(dict(model[d]))\n",
    "        vals = list(OrderedDict(tmp).values())\n",
    "        top_dist += [array(vals)]\n",
    "        if kwords:\n",
    "            keys += [array(vals).argmax()]\n",
    "\n",
    "    return array(top_dist), keys\n",
    "\n",
    "top_dist, lda_keys= get_doc_topic_dist(model, corpus, True)"
   ]
  },
  {
   "cell_type": "code",
   "execution_count": 137,
   "metadata": {
    "id": "aPRT9aavxHtI"
   },
   "outputs": [],
   "source": [
    "top_ws = []\n",
    "for n in range(len(dtm)):\n",
    "    inds = int0(argsort(dtm[n])[::-1][:4])\n",
    "    tmp = [features[i] for i in inds]\n",
    "    \n",
    "    top_ws += [' '.join(tmp)]\n",
    "    \n",
    "df['Text_Rep'] = pd.DataFrame(top_ws)\n",
    "df['clusters'] = pd.DataFrame(lda_keys)\n",
    "df['clusters'].fillna(10, inplace=True)\n",
    "\n",
    "cluster_colors = {0: 'blue', 1: 'green', 2: 'yellow', 3: 'red', 4: 'skyblue'}\n",
    "\n",
    "df['colors'] = df['clusters'].apply(lambda j: cluster_colors[j])\n",
    "# Assign a human-interpretable labels \n",
    "df['category_lda'] = df['clusters'].replace([0, 1, 2, 3, 4],['business','sport','tech','entertainment','politics'])"
   ]
  },
  {
   "cell_type": "markdown",
   "metadata": {
    "id": "-lRj6OyBxJ_6"
   },
   "source": [
    "#Clusters visualization"
   ]
  },
  {
   "cell_type": "code",
   "execution_count": 138,
   "metadata": {
    "id": "z2bV1CKrxLG4"
   },
   "outputs": [
    {
     "ename": "ModuleNotFoundError",
     "evalue": "No module named 'bokeh'",
     "output_type": "error",
     "traceback": [
      "\u001b[1;31m---------------------------------------------------------------------------\u001b[0m",
      "\u001b[1;31mModuleNotFoundError\u001b[0m                       Traceback (most recent call last)",
      "Input \u001b[1;32mIn [138]\u001b[0m, in \u001b[0;36m<cell line: 1>\u001b[1;34m()\u001b[0m\n\u001b[1;32m----> 1\u001b[0m \u001b[38;5;28;01mfrom\u001b[39;00m \u001b[38;5;21;01mbokeh\u001b[39;00m\u001b[38;5;21;01m.\u001b[39;00m\u001b[38;5;21;01mplotting\u001b[39;00m \u001b[38;5;28;01mimport\u001b[39;00m figure, show, output_notebook, save\n\u001b[0;32m      2\u001b[0m \u001b[38;5;28;01mfrom\u001b[39;00m \u001b[38;5;21;01mbokeh\u001b[39;00m\u001b[38;5;21;01m.\u001b[39;00m\u001b[38;5;21;01mmodels\u001b[39;00m \u001b[38;5;28;01mimport\u001b[39;00m HoverTool, value, LabelSet, Legend, ColumnDataSource\n",
      "\u001b[1;31mModuleNotFoundError\u001b[0m: No module named 'bokeh'"
     ]
    }
   ],
   "source": [
    "from bokeh.plotting import figure, show, output_notebook, save\n",
    "from bokeh.models import HoverTool, value, LabelSet, Legend, ColumnDataSource"
   ]
  },
  {
   "cell_type": "code",
   "execution_count": null,
   "metadata": {
    "colab": {
     "base_uri": "https://localhost:8080/"
    },
    "executionInfo": {
     "elapsed": 14848,
     "status": "ok",
     "timestamp": 1649082711535,
     "user": {
      "displayName": "Mân Nguyễn Huỳnh Huy",
      "userId": "05410369173119684721"
     },
     "user_tz": -420
    },
    "id": "kLONsJ5txM-Q",
    "outputId": "7a2f95a3-170b-4e62-a56f-65a6cf4727bf"
   },
   "outputs": [],
   "source": [
    "tsne = TSNE(n_components=2)\n",
    "X_tsne = tsne.fit_transform(top_dist)\n",
    "\n",
    "df['X_tsne'] =X_tsne[:, 0]\n",
    "df['Y_tsne'] =X_tsne[:, 1]\n",
    "\n",
    "output_notebook()\n",
    "\n",
    "source = ColumnDataSource(dict(\n",
    "    x=df['X_tsne'],\n",
    "    y=df['Y_tsne'],\n",
    "    color=df['colors'],\n",
    "    label=df['clusters'].apply(lambda l: top_labels[l]),\n",
    "    topic_key= df['clusters'],\n",
    "    # title= df[u'title'],\n",
    "    content = df['text3'],\n",
    "    legend_field=df['category_lda']\n",
    "))\n",
    "\n",
    "df = df.drop(columns=['colors','Text_Rep','X_tsne','Y_tsne'])"
   ]
  },
  {
   "cell_type": "code",
   "execution_count": null,
   "metadata": {
    "colab": {
     "base_uri": "https://localhost:8080/",
     "height": 617,
     "output_embedded_package_id": "1TPoG6WWDIhWiPgaNXTqbAPOkIg_iVpIY"
    },
    "executionInfo": {
     "elapsed": 8138,
     "status": "ok",
     "timestamp": 1649084115515,
     "user": {
      "displayName": "Mân Nguyễn Huỳnh Huy",
      "userId": "05410369173119684721"
     },
     "user_tz": -420
    },
    "id": "AkE01YilxT86",
    "outputId": "1fd79e31-97a5-41e9-c7a7-38ca37134826"
   },
   "outputs": [],
   "source": [
    "title = 'Topics visualization'\n",
    "\n",
    "plot_lda = figure(plot_width=1000, plot_height=600,\n",
    "                     title=title, \n",
    "                     x_axis_type=None, y_axis_type=None, min_border=1)\n",
    "plot_lda.scatter(x='x', y='y', legend_field='legend_field',  source=source,\n",
    "                 color='color', alpha=0.6, size=5.0)\n",
    "\n",
    "# hover tools\n",
    "hover = plot_lda.select(dict(type=HoverTool))\n",
    "hover.tooltips = {\"content\": \"Title: @title, KeyWords: @content - Topic: @topic_key \"}\n",
    "plot_lda.legend.location = \"top_left\"\n",
    "\n",
    "show(plot_lda)"
   ]
  },
  {
   "cell_type": "code",
   "execution_count": null,
   "metadata": {
    "colab": {
     "base_uri": "https://localhost:8080/",
     "height": 1000
    },
    "executionInfo": {
     "elapsed": 12321,
     "status": "ok",
     "timestamp": 1649083045436,
     "user": {
      "displayName": "Mân Nguyễn Huỳnh Huy",
      "userId": "05410369173119684721"
     },
     "user_tz": -420
    },
    "id": "iZCxliJaAhxw",
    "outputId": "7f618a0c-0e4d-466f-fc87-585f3f7e7ac8"
   },
   "outputs": [],
   "source": [
    "for x in df.category.unique():\n",
    "    wc = WordCloud(width = 800, height = 800, background_color ='white', stopwords=stopwords,\n",
    "                   min_font_size = 10, random_state=42)\n",
    "    wc.generate(df.text3[(df.category == x)].to_string())\n",
    "    \n",
    "    plt.imshow(wc)\n",
    "    plt.tight_layout(pad = 0) \n",
    "    plt.title(x)\n",
    "    plt.axis(\"off\")\n",
    "    plt.show()"
   ]
  },
  {
   "cell_type": "code",
   "execution_count": null,
   "metadata": {},
   "outputs": [],
   "source": []
  }
 ],
 "metadata": {
  "accelerator": "GPU",
  "colab": {
   "collapsed_sections": [],
   "name": "3. Clustering",
   "provenance": [
    {
     "file_id": "/v2/external/notebooks/intro.ipynb",
     "timestamp": 1649074916886
    }
   ]
  },
  "kernelspec": {
   "display_name": "Python 3 (ipykernel)",
   "language": "python",
   "name": "python3"
  },
  "language_info": {
   "codemirror_mode": {
    "name": "ipython",
    "version": 3
   },
   "file_extension": ".py",
   "mimetype": "text/x-python",
   "name": "python",
   "nbconvert_exporter": "python",
   "pygments_lexer": "ipython3",
   "version": "3.10.4"
  }
 },
 "nbformat": 4,
 "nbformat_minor": 1
}
